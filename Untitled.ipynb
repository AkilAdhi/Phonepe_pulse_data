{
 "cells": [
  {
   "cell_type": "code",
   "execution_count": 1,
   "id": "154de4ea",
   "metadata": {},
   "outputs": [],
   "source": [
    "import pandas as pd\n",
    "import mysql.connector as sql\n",
    "import streamlit as st\n",
    "import plotly.express as px\n",
    "import os\n",
    "import json\n",
    "from streamlit_option_menu import option_menu\n",
    "from PIL import Image\n",
    "import git\n",
    "from git.repo.base import Repo\n"
   ]
  },
  {
   "cell_type": "code",
   "execution_count": null,
   "id": "b15dcd8c",
   "metadata": {},
   "outputs": [],
   "source": [
    "# Setting up page configuration\n",
    "icon = Image.open(\"ICN.png\")\n",
    "st.set_page_config(page_title= \"Phonepe Pulse Data Visualization | By Pon Akilan\",\n",
    "                   page_icon= icon,\n",
    "                   layout= \"wide\",\n",
    "                   initial_sidebar_state= \"expanded\",\n",
    "                   menu_items={'About': \"\"\"# This dashboard app is created by *Pon Akilan*!\n",
    "                                        Data has been cloned from Phonepe Pulse Github Repo\"\"\"})\n",
    "\n",
    "st.sidebar.header(\":wave: :violet[**Hello! Welcome to the dashboard**]\")\n"
   ]
  },
  {
   "cell_type": "code",
   "execution_count": 2,
   "id": "b3180f97",
   "metadata": {},
   "outputs": [],
   "source": [
    "# Creating connection with mysql workbench\n",
    "mydb = sql.connect(host=\"localhost\",\n",
    "                   user=\"root\",\n",
    "                   password=\"adhiban\",\n",
    "                   database= \"phonepe_pulse\"\n",
    "                  )\n",
    "mycursor = mydb.cursor(buffered=True)\n"
   ]
  },
  {
   "cell_type": "code",
   "execution_count": null,
   "id": "f5dd6824",
   "metadata": {},
   "outputs": [],
   "source": []
  }
 ],
 "metadata": {
  "kernelspec": {
   "display_name": "Python 3 (ipykernel)",
   "language": "python",
   "name": "python3"
  },
  "language_info": {
   "codemirror_mode": {
    "name": "ipython",
    "version": 3
   },
   "file_extension": ".py",
   "mimetype": "text/x-python",
   "name": "python",
   "nbconvert_exporter": "python",
   "pygments_lexer": "ipython3",
   "version": "3.11.4"
  }
 },
 "nbformat": 4,
 "nbformat_minor": 5
}
